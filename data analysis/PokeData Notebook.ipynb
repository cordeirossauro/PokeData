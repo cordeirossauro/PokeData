{
 "cells": [
  {
   "cell_type": "code",
   "execution_count": 1,
   "metadata": {},
   "outputs": [],
   "source": [
    "import pandas as pd\n",
    "import seaborn as sns\n",
    "import numpy as np\n",
    "import matplotlib\n",
    "import ast\n",
    "import os\n",
    "import matplotlib.pyplot as plt\n",
    "\n",
    "font = {'family': 'sans-serif',\n",
    "        'weight': 'normal',\n",
    "        'size': 18}\n",
    "\n",
    "label_font =  {'family': 'sans-serif',\n",
    "               'weight': 'bold',\n",
    "               'size': 24}\n",
    "\n",
    "title_font =  {'family': 'sans-serif',\n",
    "               'weight': 'bold',\n",
    "               'size': 28}\n",
    "\n",
    "\n",
    "matplotlib.rc('font', **font)\n",
    "\n",
    "def apply_plot_style(ax, x_label = \"\", y_label = \"\", x_range = \"keep\",  y_range = \"keep\", title = \"\", grid_axis = \"y\"):\n",
    "    if x_range != \"keep\":\n",
    "        ax.set_xlim(x_range[0], x_range[1])  \n",
    "    if y_range != \"keep\":\n",
    "        ax.set_ylim(y_range[0], y_range[1])\n",
    "    \n",
    "    ax.set_xlabel(x_label, fontdict = label_font)\n",
    "    ax.set_ylabel(y_label, fontdict = label_font)\n",
    "    \n",
    "    ax.set_facecolor(\"#F2F3F4\")\n",
    "    ax.grid(axis = grid_axis, zorder = 0, color = \"#404040\", ls = \"-.\", linewidth = 0.3)\n",
    "    \n",
    "    ax.set_title(title, fontdict = title_font, pad = 10)"
   ]
  },
  {
   "cell_type": "code",
   "execution_count": 2,
   "metadata": {},
   "outputs": [],
   "source": [
    "poketypes = [\"Normal\", \"Fire\", \"Water\", \"Electric\", \"Grass\", \"Ice\", \"Fighting\", \"Poison\", \"Ground\", \n",
    "             \"Flying\", \"Psychic\", \"Bug\", \"Rock\", \"Ghost\", \"Dragon\", \"Dark\", \"Steel\", \"Fairy\"]"
   ]
  },
  {
   "cell_type": "code",
   "execution_count": 14,
   "metadata": {},
   "outputs": [],
   "source": [
    "pokedex = pd.read_csv(\"../pokescraper/data/pokedex.csv\", dtype = {\"number\": str})\n",
    "pokedex[\"abilities\"] = pokedex[\"abilities\"].apply(lambda x: ast.literal_eval(x))\n",
    "\n",
    "pokedex.set_index(\"number\", inplace = True)\n",
    "\n",
    "pokedex.loc[pokedex[\"type2\"] == \"-\", \"type2\"] = pokedex.loc[pokedex[\"type2\"] == \"-\"][\"type1\"] "
   ]
  },
  {
   "cell_type": "code",
   "execution_count": 15,
   "metadata": {},
   "outputs": [
    {
     "data": {
      "text/plain": [
       "<Figure size 900x900 with 0 Axes>"
      ]
     },
     "metadata": {},
     "output_type": "display_data"
    }
   ],
   "source": [
    "types_heatmap = pd.DataFrame(index = poketypes, columns = poketypes, dtype = int)\n",
    "types_to_study = []\n",
    "\n",
    "pokedex_types = pokedex.groupby([\"type1\", \"type2\"])[\"name\"].count()\n",
    "for type1 in poketypes:\n",
    "    for type2 in poketypes:\n",
    "        try:\n",
    "            type_count = pokedex_types.loc[type1, type2]\n",
    "        except KeyError:\n",
    "            type_count = 0\n",
    "        types_heatmap.loc[type1, type2] = type_count\n",
    "        if type_count >= 16:\n",
    "            if type1 == type2:\n",
    "                types_to_study.append(type1)\n",
    "            else:\n",
    "                types_to_study.append(type1 + \" - \" + type2)\n",
    "\n",
    "types_to_study.remove(\"Poison\")\n",
    "types = plt.figure(1, figsize = (12.5,12.5), facecolor = \"white\")\n",
    "ax_types = types.add_axes([0, 0, 1, 1])\n",
    "\n",
    "sns.heatmap(types_heatmap, annot = True, cmap = \"viridis\")\n",
    "\n",
    "ax_types.set_xlabel(\"type2\", fontdict = label_font)\n",
    "ax_types.set_ylabel(\"type1\", fontdict = label_font)\n",
    "ax_types.set_title(\"Type Distribution - All Pokemon\", fontdict = title_font, pad = 10)\n",
    "\n",
    "filepath = os.path.join(\"type\", \"types_heatmap.png\")\n",
    "types.savefig(filepath, dpi = 200, bbox_inches='tight')\n",
    "types.clf()"
   ]
  },
  {
   "cell_type": "code",
   "execution_count": 5,
   "metadata": {
    "scrolled": true
   },
   "outputs": [
    {
     "data": {
      "text/plain": [
       "<Figure size 360x576 with 0 Axes>"
      ]
     },
     "metadata": {},
     "output_type": "display_data"
    }
   ],
   "source": [
    "gens_types_data = pokedex.groupby([\"generation\", \"type1\"])[\"name\"].count()\n",
    "\n",
    "cmap = matplotlib.cm.get_cmap('plasma')\n",
    "colors = [cmap(x) for x in np.linspace(0.0, 1.0, len(poketypes))]\n",
    "\n",
    "for gen in range(1, 9):\n",
    "    gens_types_graph = plt.figure(1, figsize = [5, 8], facecolor = \"white\")\n",
    "    ax = gens_types_graph.add_axes([0,0,1,1])\n",
    "    \n",
    "    gen_types_data = gens_types_data.loc[gen]\n",
    "    gen_types_data = gen_types_data.reindex(poketypes)\n",
    "    \n",
    "    gen_types_data.plot(kind = \"barh\", ax = ax, width = 1.0, xlabel = \"Count\",\n",
    "                        color = colors, linewidth = 2.0, edgecolor = \"k\", zorder = 3)\n",
    "    \n",
    "    apply_plot_style(ax, y_range = [-0.5, 17.5], x_range = [0,30], x_label = \"Count\",\n",
    "                     title = f\"Generation {gen}: {int(gen_types_data.sum())} Pokemon\",\n",
    "                     grid_axis = \"x\")\n",
    "    \n",
    "    filepath = os.path.join(\"type\", \"Generation\" + str(gen) + \".png\")\n",
    "    gens_types_graph.savefig(filepath, dpi = 200, bbox_inches='tight')\n",
    "    gens_types_graph.clf()"
   ]
  },
  {
   "cell_type": "code",
   "execution_count": 6,
   "metadata": {},
   "outputs": [],
   "source": [
    "def get_comb_type(types):\n",
    "    if types[0] == types[1]:\n",
    "        return types[0]\n",
    "    else:\n",
    "        return types[0] + \" - \" + types[1]\n",
    "    \n",
    "pokedex[\"comb_type\"] = pokedex[[\"type1\", \"type2\"]].apply(get_comb_type, axis = 1)\n",
    "pokedex_to_study = pokedex[pokedex[\"comb_type\"].isin(types_to_study)].copy()"
   ]
  },
  {
   "cell_type": "code",
   "execution_count": 7,
   "metadata": {},
   "outputs": [
    {
     "data": {
      "text/plain": [
       "<Figure size 576x360 with 0 Axes>"
      ]
     },
     "metadata": {},
     "output_type": "display_data"
    }
   ],
   "source": [
    "stats = [\"base_HP\", \"base_attack\", \"base_defense\", \"base_sp_attack\", \"base_sp_defense\", \"base_speed\"]\n",
    "stats_abbrev = [\"HP\", \"atk\", \"def\", \"sp_atk\", \"sp_def\", \"speed\"]\n",
    "\n",
    "cmap = matplotlib.cm.get_cmap('plasma')\n",
    "colors = [cmap(x) for x in np.linspace(0.0, 1.0, len(stats_abbrev) + 1)]\n",
    "\n",
    "current_ax = 0\n",
    "for poketype in types_to_study:\n",
    "    types_stats_graph = plt.figure(1, figsize = [8, 5], facecolor = \"white\")\n",
    "    ax = types_stats_graph.add_axes([0,0,1,1])\n",
    "    type_stats_data = pokedex_to_study[pokedex_to_study[\"comb_type\"] == poketype][stats]\n",
    "    bp = ax.boxplot(x = type_stats_data, zorder = 5, patch_artist = True, \n",
    "                    boxprops = dict(linewidth = 2, color = \"black\"), \n",
    "                    medianprops = dict(ls = \"--\", linewidth = 2, color = \"black\"),\n",
    "                    flierprops = dict(marker = \"o\", markerfacecolor = \"black\"),\n",
    "                    whiskerprops = dict(linewidth = 2, color = \"black\"),\n",
    "                    capprops = dict(linewidth = 2, color = \"black\"))\n",
    "    \n",
    "    c_index = 1\n",
    "    \n",
    "    for patch in bp[\"boxes\"]:\n",
    "        patch.set(facecolor = colors[c_index])\n",
    "        c_index = c_index + 1\n",
    "    \n",
    "    apply_plot_style(ax, y_range = [0, 200], title = poketype)\n",
    "    ax.set_xticklabels(stats_abbrev)\n",
    "\n",
    "    filepath = os.path.join(\"stats\", poketype + \".png\")\n",
    "    types_stats_graph.savefig(filepath, dpi = 200, bbox_inches='tight')\n",
    "    types_stats_graph.clf()\n",
    "    \n",
    "    current_ax = current_ax + 1"
   ]
  },
  {
   "cell_type": "code",
   "execution_count": 16,
   "metadata": {},
   "outputs": [
    {
     "data": {
      "text/plain": [
       "<Figure size 1440x720 with 0 Axes>"
      ]
     },
     "metadata": {},
     "output_type": "display_data"
    }
   ],
   "source": [
    "combat_stats_scatter, axes = plt.subplots(nrows = 1, ncols = 2, figsize = [20, 10], facecolor = \"white\")\n",
    "combat_stats_scatter.suptitle(\"Combat Stats Distribution\", size = 48, weight = \"bold\")\n",
    "\n",
    "atk_ax = axes[0]\n",
    "def_ax = axes[1]\n",
    "\n",
    "sns.scatterplot(data = pokedex_to_study[pokedex_to_study[\"type1\"].isin([\"Fighting\", \"Ground\", \"Rock\", \"Fairy\", \"Psychic\"])],\n",
    "                      x = \"base_sp_attack\", y = \"base_attack\", ax = atk_ax, hue = \"comb_type\", s = 100, legend = False, zorder = 2)\n",
    "\n",
    "atk_ax.plot([0, 180], [0, 180], ls = \"--\", color = \"black\", linewidth = 2, alpha = 0.5, zorder = 1)\n",
    "apply_plot_style(atk_ax, x_range = [0, 180], x_label = \"sp_attack\", y_range = [0, 180], y_label = \"attack\", grid_axis = \"both\")\n",
    "\n",
    "\n",
    "sct = sns.scatterplot(data = pokedex_to_study[pokedex_to_study[\"type1\"].isin([\"Fighting\", \"Ground\", \"Rock\", \"Fairy\", \"Psychic\"])],\n",
    "                x = \"base_sp_defense\", y = \"base_defense\", ax = def_ax, hue = \"comb_type\", s = 100, legend = \"auto\", zorder = 2)\n",
    "def_ax.plot([0, 180], [0, 180], ls = \"--\", color = \"black\", linewidth = 2, alpha = 0.5, zorder = 1)\n",
    "apply_plot_style(def_ax, x_range = [0, 180], x_label = \"sp_defense\", y_range = [0, 180], y_label = \"defense\", grid_axis = \"both\")\n",
    "\n",
    "\n",
    "labels = sct.get_legend_handles_labels()\n",
    "label_index = 0\n",
    "    \n",
    "for handle in labels[0]:\n",
    "    handle._sizes = [256]\n",
    "    \n",
    "sct.legend(title = \"Pokemon Type\", handles = labels[0], labels = labels[1], \n",
    "           ncol = len(labels[0]), bbox_to_anchor = (-0.1, -0.2), loc = \"center\",\n",
    "           title_fontproperties = label_font, edgecolor = \"black\", handletextpad = 0)\n",
    "\n",
    "filepath = os.path.join(\"stats\", \"combat stats.png\")\n",
    "combat_stats_scatter.savefig(filepath, dpi = 200, bbox_inches='tight')\n",
    "combat_stats_scatter.clf()"
   ]
  },
  {
   "cell_type": "code",
   "execution_count": 9,
   "metadata": {},
   "outputs": [],
   "source": [
    "reg_ability_counter = pd.DataFrame(columns = types_to_study)\n",
    "hidden_ability_counter = pd.DataFrame(columns = types_to_study)\n",
    "\n",
    "for pokenumber in pokedex_to_study.index:\n",
    "    pokemon = pokedex_to_study.loc[pokenumber]\n",
    "    abilities = pokemon[\"abilities\"]\n",
    "    for ability in abilities:\n",
    "        if \"Hidden Ability\" in ability:\n",
    "            try:\n",
    "                hidden_ability_counter.loc[ability][pokemon[\"comb_type\"]] += 1\n",
    "            except KeyError:\n",
    "                hidden_ability_counter.loc[ability] = 0\n",
    "                hidden_ability_counter.loc[ability][pokemon[\"comb_type\"]] += 1\n",
    "        else:\n",
    "            try:\n",
    "                reg_ability_counter.loc[ability][pokemon[\"comb_type\"]] += 1\n",
    "            except KeyError:\n",
    "                reg_ability_counter.loc[ability] = 0\n",
    "                reg_ability_counter.loc[ability][pokemon[\"comb_type\"]] += 1"
   ]
  },
  {
   "cell_type": "code",
   "execution_count": 17,
   "metadata": {},
   "outputs": [
    {
     "data": {
      "text/plain": [
       "<Figure size 720x576 with 0 Axes>"
      ]
     },
     "metadata": {},
     "output_type": "display_data"
    }
   ],
   "source": [
    "avg_n_abilities = pd.DataFrame(columns = [\"Regular\", \"Hidden\"])\n",
    "\n",
    "types_count = pokedex_to_study.groupby(\"comb_type\")[\"comb_type\"].count()\n",
    "avg_n_abilities[\"Regular\"] = (reg_ability_counter.sum(axis = 0)/types_count)\n",
    "avg_n_abilities[\"Hidden\"] = (hidden_ability_counter.sum(axis = 0)/types_count)\n",
    "\n",
    "avg_n_abilities_fig = plt.figure(figsize = [10, 8], facecolor = \"white\")\n",
    "ax = avg_n_abilities_fig.add_axes([0,0,1,1])\n",
    "\n",
    "avg_n_abilities.plot(kind = \"barh\", stacked = True, ax = ax, width = 0.6,\n",
    "                     color = [\"#599ad3\", \"#f1595f\"], edgecolor = \"k\", linewidth = 2,\n",
    "                     zorder = 2)\n",
    "apply_plot_style(ax, x_label = \"Average Number of Abilities\", grid_axis = \"x\")\n",
    "\n",
    "filepath = os.path.join(\"abilities\", \"avg n of abilities.png\")\n",
    "avg_n_abilities_fig.savefig(filepath, dpi = 200, bbox_inches='tight')\n",
    "avg_n_abilities_fig.clf()"
   ]
  },
  {
   "cell_type": "code",
   "execution_count": 18,
   "metadata": {},
   "outputs": [
    {
     "data": {
      "text/plain": [
       "<Figure size 720x576 with 0 Axes>"
      ]
     },
     "metadata": {},
     "output_type": "display_data"
    }
   ],
   "source": [
    "top_reg_abilities = reg_ability_counter.sum(axis = 1).sort_values(ascending = False)[0:10].index\n",
    "\n",
    "reg_abilities_fig = plt.figure(figsize = [10, 8], facecolor = \"white\")\n",
    "ax = reg_abilities_fig.add_axes([0,0,1,1])\n",
    "\n",
    "cmap = matplotlib.cm.get_cmap('Paired')\n",
    "colors = [cmap(x) for x in np.linspace(0.0, 1.0, len(types_to_study))]\n",
    "\n",
    "reg_ability_counter.loc[top_reg_abilities].plot(kind = \"barh\", stacked = True, ax = ax, width = 0.6,\n",
    "                                                color = colors, edgecolor = \"k\", linewidth = 2, zorder = 2)\n",
    "apply_plot_style(ax, x_label = \"Number of Pokemon\", grid_axis = \"x\")\n",
    "\n",
    "filepath = os.path.join(\"abilities\", \"reg abilities distribution.png\")\n",
    "reg_abilities_fig.savefig(filepath, dpi = 200, bbox_inches='tight')\n",
    "reg_abilities_fig.clf()"
   ]
  },
  {
   "cell_type": "code",
   "execution_count": 19,
   "metadata": {},
   "outputs": [
    {
     "data": {
      "text/plain": [
       "<Figure size 720x576 with 0 Axes>"
      ]
     },
     "metadata": {},
     "output_type": "display_data"
    }
   ],
   "source": [
    "top_hidden_abilities = hidden_ability_counter.sum(axis = 1).sort_values(ascending = False)[0:10].index\n",
    "\n",
    "hidden_abilities_fig = plt.figure(figsize = [10, 8], facecolor = \"white\")\n",
    "ax = hidden_abilities_fig.add_axes([0,0,1,1])\n",
    "\n",
    "cmap = matplotlib.cm.get_cmap('Paired')\n",
    "colors = [cmap(x) for x in np.linspace(0.0, 1.0, len(types_to_study))]\n",
    "\n",
    "hidden_ability_counter.loc[top_hidden_abilities].plot(kind = \"barh\", stacked = True, ax = ax, width = 0.6,\n",
    "                                                      color = colors, edgecolor = \"k\", linewidth = 2, zorder = 2)\n",
    "apply_plot_style(ax, x_label = \"Number of Pokemon\", grid_axis = \"x\")\n",
    "ax.set_yticklabels([x.replace(\" (Hidden Ability)\", \"\") for x in top_hidden_abilities])\n",
    "\n",
    "filepath = os.path.join(\"abilities\", \"hidden abilities distribution.png\")\n",
    "hidden_abilities_fig.savefig(filepath, dpi = 200, bbox_inches='tight')\n",
    "hidden_abilities_fig.clf()"
   ]
  },
  {
   "cell_type": "code",
   "execution_count": null,
   "metadata": {},
   "outputs": [],
   "source": []
  }
 ],
 "metadata": {
  "kernelspec": {
   "display_name": "Python 3",
   "language": "python",
   "name": "python3"
  },
  "language_info": {
   "codemirror_mode": {
    "name": "ipython",
    "version": 3
   },
   "file_extension": ".py",
   "mimetype": "text/x-python",
   "name": "python",
   "nbconvert_exporter": "python",
   "pygments_lexer": "ipython3",
   "version": "3.8.10"
  },
  "varInspector": {
   "cols": {
    "lenName": 16,
    "lenType": 16,
    "lenVar": 40
   },
   "kernels_config": {
    "python": {
     "delete_cmd_postfix": "",
     "delete_cmd_prefix": "del ",
     "library": "var_list.py",
     "varRefreshCmd": "print(var_dic_list())"
    },
    "r": {
     "delete_cmd_postfix": ") ",
     "delete_cmd_prefix": "rm(",
     "library": "var_list.r",
     "varRefreshCmd": "cat(var_dic_list()) "
    }
   },
   "types_to_exclude": [
    "module",
    "function",
    "builtin_function_or_method",
    "instance",
    "_Feature"
   ],
   "window_display": false
  }
 },
 "nbformat": 4,
 "nbformat_minor": 4
}
